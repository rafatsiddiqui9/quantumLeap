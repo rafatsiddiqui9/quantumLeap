{
 "cells": [
  {
   "cell_type": "code",
   "execution_count": 2,
   "metadata": {},
   "outputs": [
    {
     "data": {
      "application/vnd.jupyter.widget-view+json": {
       "model_id": "41dc096306014dd686ccfa2b48690b13",
       "version_major": 2,
       "version_minor": 0
      },
      "text/plain": [
       "Loading checkpoint shards:   0%|          | 0/4 [00:00<?, ?it/s]"
      ]
     },
     "metadata": {},
     "output_type": "display_data"
    },
    {
     "name": "stderr",
     "output_type": "stream",
     "text": [
      "Setting `pad_token_id` to `eos_token_id`:128001 for open-end generation.\n"
     ]
    },
    {
     "name": "stdout",
     "output_type": "stream",
     "text": [
      "How are you doing? I am fine and hope you are fine too. I am here to write a blog post for you. It is about how to use the Google AdSense. Google AdSense is the best advertising network and it is the best way to earn money online. I have been using AdSense since 2010 and it is the best way to earn money online. I am using the AdSense for my blog and it is the best way to earn money online. You can also use the AdSense to earn money online. If you are new to the AdSense then you can read my blog post about how to use the AdSense.\n",
      "I hope you will like my blog post about how to use the Google AdSense. You can also read my blog post about how to use the AdSense. You can also read my blog post about how to use the AdSense. You can also read my blog post about how to use the AdSense. You can also read my blog post about how to use the AdSense. You can also read my blog post about how to use the AdSense. You can also read my blog post about how to use the AdSense. You can also read my blog post about how to use the AdSense. You can also read my blog post about how to use the AdSense. You can also read my blog post about how to use the AdSense. You can also read my blog post about how to use the AdSense. You can also read my blog post about how to use the AdSense. You can also read my blog post about how to use the AdSense. You can also read my blog post about how to use the AdSense. You can also read my blog post about how to use the AdSense. You can also read my blog post about how to use the AdSense. You can also read my blog post about how to use the AdSense. You can also read my blog post about how to use the AdSense. You can also read my blog post about how to use the AdSense. You can also read my blog post about how to use the AdSense. You can also read my blog post about how to use the AdSense. You can also read my blog post about how to use the AdSense. You can also read my blog post about how to use the AdSense. You can also read my blog post about how to use the AdSense. You can also read my blog post about how to use the AdSense. You can also read my blog post about how to use the AdSense. You can also read my blog post about how to use the AdSense. You can also read my blog post about how to use the AdSense. You can also read my blog post about how to use the AdSense. You can also read my blog post about how to use the AdSense. You can also read my blog post about how to use the AdSense. You can also read my blog post about how to use the AdSense. You can also read my blog post about how to use the AdSense. You can also read my blog post about how to use the AdSense. You can also read my blog post about how to use the AdSense. You can also read my blog post about how to use the AdSense. You can also read my blog post about how to use the AdSense. You can also read my blog post about how to use the AdSense. You can also read my blog post about how to use the AdSense. You can also read my blog post about how to use the AdSense. You can also read my blog post about how to use the AdSense. You can also read my blog post about how to use the AdSense. You can also read my blog post about how to use the AdSense. You can also read my blog post about how to use the AdSense. You can also read my blog post about how to use the AdSense. You can also read my blog post about how to use the AdSense. You can also read my blog post about how to use the AdSense. You can also read my blog post about how to use the AdSense. You can also read my blog post about how to use the AdSense. You can also read my blog post about how to use the AdSense. You can also read my blog post about how to use the AdSense. You can also read my blog post about how to use the AdSense. You can also read my blog post about how to use the AdSense. You can also read my blog post about how to use the AdSense. You can also read my blog post about how to use the AdSense. You can also read my blog post about how to use the AdSense. You can also read my blog post about how to use the AdSense. You can also read my blog post about how to\n"
     ]
    }
   ],
   "source": [
    "from transformers import AutoModelForCausalLM, AutoTokenizer\n",
    "import torch\n",
    "import os\n",
    "\n",
    "os.environ['PYTORCH_CUDA_ALLOC_CONF'] = 'expandable_segments:True'\n",
    "\n",
    "# Load the tokenizer and model\n",
    "tokenizer = AutoTokenizer.from_pretrained('/home/ubuntu/.cache/huggingface/hub/models--meta-llama--Meta-Llama-3.1-8B/snapshots/48d6d0fc4e02fb1269b36940650a1b7233035cbb/')\n",
    "model = AutoModelForCausalLM.from_pretrained('/home/ubuntu/.cache/huggingface/hub/models--meta-llama--Meta-Llama-3.1-8B/snapshots/48d6d0fc4e02fb1269b36940650a1b7233035cbb/')\n",
    "\n",
    "# Check if CUDA is available and move the model to GPU if possible\n",
    "device = torch.device('cuda' if torch.cuda.is_available() else 'cpu')\n",
    "model.to(device)\n",
    "\n",
    "\n",
    "# Define a sample prompt\n",
    "prompt = \"How are you doing?\"\n",
    "\n",
    "# Tokenize the prompt\n",
    "inputs = tokenizer(prompt, return_tensors='pt').to(device)\n",
    "\n",
    "# Generate outputs\n",
    "outputs = model.generate(**inputs, max_length=1000)\n",
    "\n",
    "# Decode and print the generated text\n",
    "generated_text = tokenizer.decode(outputs[0], skip_special_tokens=True)\n",
    "print(generated_text)\n"
   ]
  },
  {
   "cell_type": "code",
   "execution_count": 3,
   "metadata": {},
   "outputs": [
    {
     "data": {
      "application/vnd.jupyter.widget-view+json": {
       "model_id": "9b5e60cd6deb4829bf5476a11deb2343",
       "version_major": 2,
       "version_minor": 0
      },
      "text/plain": [
       "Loading checkpoint shards:   0%|          | 0/4 [00:00<?, ?it/s]"
      ]
     },
     "metadata": {},
     "output_type": "display_data"
    },
    {
     "name": "stdout",
     "output_type": "stream",
     "text": [
      "How are you doing?——————————————————————————————————————————————————————————————————————————————————————————————————————————————————————————————————————————————————————————————————————————————————————————————————————————————————————————————————————————————————————————————————————————————————————————————————————————————————————————————————————————————————————————————————————————————————————————————————————————————————————————————————————————————————————————————————————————————————————————————————————————————————————————————————————————————————————————————————————————————————————————————————————————————————————————————————————————————————————————————————————————————————————————————————————————————————————————————————————————————————————————————————————————————————————————————————————————————————————————————————————————————————————————————————————————————————————————————————————————————————————————————————————————————————————————————————————————————————————————————————————————————————————————————————\n"
     ]
    },
    {
     "ename": "",
     "evalue": "",
     "output_type": "error",
     "traceback": [
      "\u001b[1;31mThe Kernel crashed while executing code in the current cell or a previous cell. \n",
      "\u001b[1;31mPlease review the code in the cell(s) to identify a possible cause of the failure. \n",
      "\u001b[1;31mClick <a href='https://aka.ms/vscodeJupyterKernelCrash'>here</a> for more info. \n",
      "\u001b[1;31mView Jupyter <a href='command:jupyter.viewOutput'>log</a> for further details."
     ]
    }
   ],
   "source": [
    "from transformers import AutoModelForCausalLM, AutoTokenizer\n",
    "import torch\n",
    "import os\n",
    "\n",
    "os.environ['PYTORCH_CUDA_ALLOC_CONF'] = 'expandable_segments:True'\n",
    "\n",
    "# Load the tokenizer and model\n",
    "tokenizer = AutoTokenizer.from_pretrained('/home/ubuntu/quantumLeap/meta-llama-3.1-8b-finetuned')\n",
    "model = AutoModelForCausalLM.from_pretrained('/home/ubuntu/quantumLeap/meta-llama-3.1-8b-finetuned')\n",
    "\n",
    "# Check if CUDA is available and move the model to GPU if possible\n",
    "device = torch.device('cuda' if torch.cuda.is_available() else 'cpu')\n",
    "model.to(device)\n",
    "\n",
    "\n",
    "# Define a sample prompt\n",
    "prompt = \"How are you doing?\"\n",
    "\n",
    "# Tokenize the prompt\n",
    "inputs = tokenizer(prompt, return_tensors='pt').to(device)\n",
    "\n",
    "# Generate outputs\n",
    "outputs = model.generate(**inputs, max_length=1000)\n",
    "\n",
    "# Decode and print the generated text\n",
    "generated_text = tokenizer.decode(outputs[0], skip_special_tokens=True)\n",
    "print(generated_text)\n"
   ]
  }
 ],
 "metadata": {
  "kernelspec": {
   "display_name": "olabs",
   "language": "python",
   "name": "python3"
  },
  "language_info": {
   "codemirror_mode": {
    "name": "ipython",
    "version": 3
   },
   "file_extension": ".py",
   "mimetype": "text/x-python",
   "name": "python",
   "nbconvert_exporter": "python",
   "pygments_lexer": "ipython3",
   "version": "3.12.5"
  }
 },
 "nbformat": 4,
 "nbformat_minor": 2
}
